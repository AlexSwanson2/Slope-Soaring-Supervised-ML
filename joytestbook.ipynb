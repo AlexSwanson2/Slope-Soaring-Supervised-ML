{
    "cells": [
        {
            "cell_type": "code",
            "execution_count": 1,
            "source": [
                "import pyvjoy\r\n",
                "import math\r\n",
                "import time\r\n",
                "PI = 3.14"
            ],
            "outputs": [],
            "metadata": {}
        },
        {
            "cell_type": "code",
            "execution_count": 2,
            "source": [
                "j = pyvjoy.VJoyDevice(1)"
            ],
            "outputs": [],
            "metadata": {}
        },
        {
            "cell_type": "code",
            "execution_count": null,
            "source": [
                "#Set X axis to fully left\r\n",
                "j.set_axis(pyvjoy.HID_USAGE_X, 0x1)"
            ],
            "outputs": [],
            "metadata": {}
        },
        {
            "cell_type": "code",
            "execution_count": null,
            "source": [
                "#Set X axis to fully right\r\n",
                "j.set_axis(pyvjoy.HID_USAGE_X, 0x8000)"
            ],
            "outputs": [],
            "metadata": {}
        },
        {
            "cell_type": "code",
            "execution_count": 3,
            "source": [
                "j.reset()\r\n",
                "j.reset_buttons()\r\n",
                "j.reset_povs()"
            ],
            "outputs": [
                {
                    "output_type": "execute_result",
                    "data": {
                        "text/plain": [
                            "1"
                        ]
                    },
                    "metadata": {},
                    "execution_count": 3
                }
            ],
            "metadata": {}
        },
        {
            "cell_type": "code",
            "execution_count": null,
            "source": [
                "# for i in range(0x0000, 0x8000, 0x0100):\r\n",
                "#     j.set_axis(pyvjoy.HID_USAGE_X, i)\r\n",
                "#     j.set_axis(pyvjoy.HID_USAGE_Y, i)\r\n",
                "#     time.sleep(.5)\r\n",
                "while(1):\r\n",
                "    for i in range(0, 360, 2):\r\n",
                "        j.set_axis(pyvjoy.HID_USAGE_X, int(math.sin(PI/180*i)*0x4000)+0x4000)\r\n",
                "        j.set_axis(pyvjoy.HID_USAGE_Y, int(math.cos(PI/180*i)*0x4000)+0x4000)\r\n",
                "        time.sleep(.0001)\r\n",
                "\r\n",
                "\r\n",
                "j.reset()"
            ],
            "outputs": [],
            "metadata": {}
        },
        {
            "cell_type": "code",
            "execution_count": null,
            "source": [
                "del j"
            ],
            "outputs": [],
            "metadata": {}
        }
    ],
    "metadata": {
        "orig_nbformat": 4,
        "language_info": {
            "name": "python",
            "version": "3.9.6",
            "mimetype": "text/x-python",
            "codemirror_mode": {
                "name": "ipython",
                "version": 3
            },
            "pygments_lexer": "ipython3",
            "nbconvert_exporter": "python",
            "file_extension": ".py"
        },
        "kernelspec": {
            "name": "python3",
            "display_name": "Python 3.9.6 64-bit"
        },
        "interpreter": {
            "hash": "ee7f376f604709499d4f73cb9c980966bf7f3dbbfeef0dbd391a6cdd2e53fee4"
        }
    },
    "nbformat": 4,
    "nbformat_minor": 2
}