{
    "cells": [
        {
            "cell_type": "code",
            "execution_count": null,
            "source": [
                "import Neural_Network\r\n",
                "import numpy as np"
            ],
            "outputs": [],
            "metadata": {}
        },
        {
            "cell_type": "code",
            "execution_count": null,
            "source": [
                "x=np.array(([0,0,1],[0,1,1],[1,0,1],[1,1,1]), dtype=float)\r\n",
                "y=np.array(([0],[1],[1],[0]), dtype=float)\r\n",
                "\r\n",
                "network = Neural_Network.NeuralNetwork(x,y)"
            ],
            "outputs": [],
            "metadata": {}
        },
        {
            "cell_type": "code",
            "execution_count": null,
            "source": [
                "for i in range(1500): # trains the NN 1,000 times\r\n",
                "    if i % 100 ==0: \r\n",
                "        print (\"for iteration # \" + str(i) + \"\\n\")\r\n",
                "        print (\"Input : \\n\" + str(x))\r\n",
                "        print (\"Actual Output: \\n\" + str(y))\r\n",
                "        print (\"Predicted Output: \\n\" + str(network.feedforward()))\r\n",
                "        print (\"Loss: \\n\" + str(np.mean(np.square(y - network.feedforward())))) # mean sum squared loss\r\n",
                "        print (\"\\n\")\r\n",
                "  \r\n",
                "    network.train(x, y)\r\n"
            ],
            "outputs": [],
            "metadata": {}
        }
    ],
    "metadata": {
        "orig_nbformat": 4,
        "language_info": {
            "name": "python",
            "version": "3.9.6",
            "mimetype": "text/x-python",
            "codemirror_mode": {
                "name": "ipython",
                "version": 3
            },
            "pygments_lexer": "ipython3",
            "nbconvert_exporter": "python",
            "file_extension": ".py"
        },
        "kernelspec": {
            "name": "python3",
            "display_name": "Python 3.9.6 64-bit"
        },
        "interpreter": {
            "hash": "ee7f376f604709499d4f73cb9c980966bf7f3dbbfeef0dbd391a6cdd2e53fee4"
        }
    },
    "nbformat": 4,
    "nbformat_minor": 2
}