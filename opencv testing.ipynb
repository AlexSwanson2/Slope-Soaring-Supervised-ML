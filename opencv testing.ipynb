{
    "cells": [
        {
            "cell_type": "code",
            "execution_count": null,
            "source": [
                "import cv2\r\n",
                "import numpy\r\n",
                "import matplotlib\r\n",
                "from WindowCapture import WindowCapture"
            ],
            "outputs": [],
            "metadata": {}
        },
        {
            "cell_type": "code",
            "execution_count": null,
            "source": [
                "w, h = (1920, 1080)\r\n",
                "fps = 30\r\n",
                "\r\n",
                "\r\n",
                "cap = WindowCapture.WindowCapture(\"PicaSim\")\r\n",
                "writer = cv2.VideoWriter(\"proccessed output.mp4\", 0, fps, (w,h), isColor = False)\r\n",
                "\r\n",
                "   \r\n",
                "# Read until video is completed\r\n",
                "while(1):\r\n",
                "  screenshot = cap.get_screenshot()\r\n",
                "  cv2.imshow(\"Screen\", screenshot)\r\n",
                "  # watch https://www.youtube.com/watch?v=WymCpVUPWQ4\r\n",
                "\r\n",
                "  # Capture frame-by-frame\r\n",
                "  # ret, frame = cap.read()\r\n",
                "  # if ret == True:\r\n",
                "   \r\n",
                "  #   edges = cv2.Canny(frame, 150, 500, apertureSize = 5, L2gradient = False)\r\n",
                "\r\n",
                "  #   # Display the resulting frame\r\n",
                "  #   cv2.imshow('Frame', edges)\r\n",
                "  #   writer.write(edges)\r\n",
                "  #   # Press Q on keyboard to  exit\r\n",
                "  #   if cv2.waitKey(25) & 0xFF == ord('q'):\r\n",
                "  #     break\r\n",
                "   \r\n",
                "  # # Break the loop\r\n",
                "  # else: \r\n",
                "  #   break\r\n",
                "   \r\n",
                "# When everything done, release \r\n",
                "# the video capture object\r\n",
                "writer.release()\r\n",
                "cap.release()\r\n",
                "\r\n",
                "   \r\n",
                "# Closes all the frames\r\n",
                "cv2.destroyAllWindows()"
            ],
            "outputs": [],
            "metadata": {}
        },
        {
            "cell_type": "code",
            "execution_count": null,
            "source": [
                "import time\r\n",
                "\r\n",
                "wincap = WindowCapture.WindowCapture(\"PicaSim\")\r\n",
                "\r\n",
                "\r\n",
                "loop_time = time()\r\n",
                "while(True):\r\n",
                "\r\n",
                "    # get an updated image of the game\r\n",
                "    screenshot = wincap.get_screenshot()\r\n",
                "\r\n",
                "    cv2.imshow('Computer Vision', screenshot)\r\n",
                "\r\n",
                "    # debug the loop rate\r\n",
                "    print('FPS {}'.format(1 / (time() - loop_time)))\r\n",
                "    loop_time = time()\r\n",
                "\r\n",
                "    # press 'q' with the output window focused to exit.\r\n",
                "    # waits 1 ms every loop to process key presses\r\n",
                "    if cv2.waitKey(1) == ord('q'):\r\n",
                "        cv2.destroyAllWindows()\r\n",
                "        break"
            ],
            "outputs": [],
            "metadata": {}
        }
    ],
    "metadata": {
        "orig_nbformat": 4,
        "language_info": {
            "name": "python",
            "version": "3.9.6",
            "mimetype": "text/x-python",
            "codemirror_mode": {
                "name": "ipython",
                "version": 3
            },
            "pygments_lexer": "ipython3",
            "nbconvert_exporter": "python",
            "file_extension": ".py"
        },
        "kernelspec": {
            "name": "python3",
            "display_name": "Python 3.9.6 64-bit"
        },
        "interpreter": {
            "hash": "ee7f376f604709499d4f73cb9c980966bf7f3dbbfeef0dbd391a6cdd2e53fee4"
        }
    },
    "nbformat": 4,
    "nbformat_minor": 2
}