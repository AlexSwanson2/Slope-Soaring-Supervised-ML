{
    "cells": [
        {
            "cell_type": "code",
            "execution_count": 23,
            "source": [
                "import cv2\r\n",
                "import numpy\r\n",
                "import matplotlib\r\n",
                "import win32gui, win32ui, win32con"
            ],
            "outputs": [],
            "metadata": {}
        },
        {
            "cell_type": "code",
            "execution_count": 3,
            "source": [
                "img = cv2.imread(\"image.PNG\", cv2.IMREAD_GRAYSCALE)\r\n"
            ],
            "outputs": [],
            "metadata": {}
        },
        {
            "cell_type": "code",
            "execution_count": 4,
            "source": [
                "# Canny edge detection.\r\n",
                "edges = cv2.Canny(img, 150, 500, apertureSize = 5, L2gradient = False)"
            ],
            "outputs": [],
            "metadata": {}
        },
        {
            "cell_type": "code",
            "execution_count": 5,
            "source": [
                "cv2.imshow(\"Awesome image processing\", img)\r\n",
                "cv2.imshow(\"Awesome image processing, but only edges\", edges)\r\n",
                "\r\n",
                "cv2.waitKey(0)\r\n",
                "cv2.destroyAllWindows()"
            ],
            "outputs": [],
            "metadata": {}
        },
        {
            "cell_type": "code",
            "execution_count": 22,
            "source": [
                "# Create a VideoCapture object and read from input file\r\n",
                "cap = cv2.VideoCapture(\"sample training vid.mp4\")\r\n",
                "\r\n",
                "w, h = (1920, 1080)\r\n",
                "fps = 30\r\n",
                "\r\n",
                "writer = cv2.VideoWriter(\"proccessed output.mp4\", 0, fps, (w,h), isColor = False)\r\n",
                "   \r\n",
                "# Check if camera opened successfully\r\n",
                "if (cap.isOpened()== False): \r\n",
                "  print(\"Error opening video  file\")\r\n",
                "   \r\n",
                "# Read until video is completed\r\n",
                "while(cap.isOpened()):\r\n",
                "      \r\n",
                "\r\n",
                "  screenshot = cv2.cvtColor(numpy.array(), cv2.COLOR_RGB2BGR)\r\n",
                "  cv2.imshow(\"Screen\", screenshot)\r\n",
                "  # watch https://www.youtube.com/watch?v=WymCpVUPWQ4\r\n",
                "\r\n",
                "  # Capture frame-by-frame\r\n",
                "  ret, frame = cap.read()\r\n",
                "  if ret == True:\r\n",
                "   \r\n",
                "    edges = cv2.Canny(frame, 150, 500, apertureSize = 5, L2gradient = False)\r\n",
                "\r\n",
                "    # Display the resulting frame\r\n",
                "    cv2.imshow('Frame', edges)\r\n",
                "    writer.write(edges)\r\n",
                "    # Press Q on keyboard to  exit\r\n",
                "    if cv2.waitKey(25) & 0xFF == ord('q'):\r\n",
                "      break\r\n",
                "   \r\n",
                "  # Break the loop\r\n",
                "  else: \r\n",
                "    break\r\n",
                "   \r\n",
                "# When everything done, release \r\n",
                "# the video capture object\r\n",
                "writer.release()\r\n",
                "cap.release()\r\n",
                "\r\n",
                "   \r\n",
                "# Closes all the frames\r\n",
                "cv2.destroyAllWindows()"
            ],
            "outputs": [],
            "metadata": {}
        }
    ],
    "metadata": {
        "orig_nbformat": 4,
        "language_info": {
            "name": "python",
            "version": "3.9.6",
            "mimetype": "text/x-python",
            "codemirror_mode": {
                "name": "ipython",
                "version": 3
            },
            "pygments_lexer": "ipython3",
            "nbconvert_exporter": "python",
            "file_extension": ".py"
        },
        "kernelspec": {
            "name": "python3",
            "display_name": "Python 3.9.6 64-bit"
        },
        "interpreter": {
            "hash": "ee7f376f604709499d4f73cb9c980966bf7f3dbbfeef0dbd391a6cdd2e53fee4"
        }
    },
    "nbformat": 4,
    "nbformat_minor": 2
}